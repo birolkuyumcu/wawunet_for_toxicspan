{
 "cells": [
  {
   "cell_type": "code",
   "execution_count": 1,
   "metadata": {},
   "outputs": [],
   "source": [
    "import pandas as pd\n",
    "import numpy as np\n",
    "import pickle\n",
    "import random\n",
    "from tensorflow.keras.models import load_model\n",
    "from IPython.display import HTML as html_print"
   ]
  },
  {
   "cell_type": "code",
   "execution_count": 2,
   "metadata": {},
   "outputs": [],
   "source": [
    "# https://github.com/ipavlopoulos/toxic_spans/blob/master/evaluation/semeval2021.py\n",
    "def f1(predictions, gold):\n",
    "    \"\"\"\n",
    "    F1 (a.k.a. DICE) operating on two lists of offsets (e.g., character).\n",
    "    >>> assert f1([0, 1, 4, 5], [0, 1, 6]) == 0.5714285714285714\n",
    "    :param predictions: a list of predicted offsets\n",
    "    :param gold: a list of offsets serving as the ground truth\n",
    "    :return: a score between 0 and 1\n",
    "    \"\"\"\n",
    "    if len(gold) == 0:\n",
    "        return 1. if len(predictions) == 0 else 0.\n",
    "    if len(predictions) == 0:\n",
    "        return 0.\n",
    "    predictions_set = set(predictions)\n",
    "    gold_set = set(gold)\n",
    "    nom = 2 * len(predictions_set.intersection(gold_set))\n",
    "    denom = len(predictions_set) + len(gold_set)\n",
    "    return float(nom)/float(denom)"
   ]
  },
  {
   "cell_type": "code",
   "execution_count": 3,
   "metadata": {},
   "outputs": [],
   "source": [
    "# https://stackoverflow.com/a/42534887\n",
    "def cstr(s, color='black'):\n",
    "    return \"<text style=color:{}>{}</text>\".format(color, s)"
   ]
  },
  {
   "cell_type": "code",
   "execution_count": 4,
   "metadata": {},
   "outputs": [],
   "source": [
    "def get_spans(txt):\n",
    "    if len(txt) > 2:\n",
    "        return [int(x) for x in txt[1:-1].split(',')]\n",
    "    else:\n",
    "        return []\n",
    "\n",
    "\n",
    "with open('model_data/datafile.pkl','rb') as fp:\n",
    "    data = pickle.load(fp)\n",
    "\n",
    "mlen = data['mlen']\n",
    "alen = data['alen']\n",
    "alphabet = data['alphabet']\n",
    "\n",
    "model_name = 'models/Experiment_02_best_mean.h5'\n",
    "model = load_model(model_name,compile=False)"
   ]
  },
  {
   "cell_type": "code",
   "execution_count": 5,
   "metadata": {},
   "outputs": [],
   "source": [
    "def get_x(text):\n",
    "    text = text.lower()\n",
    "    matx = np.zeros((mlen,alen))\n",
    "    for i,ch in enumerate(text):\n",
    "        vx = np.zeros(alen)\n",
    "        if ch in alphabet:\n",
    "            ix = alphabet.index(ch)        \n",
    "            vx[ix] = 1\n",
    "        matx[i,:] = vx   \n",
    "    return matx"
   ]
  },
  {
   "cell_type": "code",
   "execution_count": 6,
   "metadata": {},
   "outputs": [],
   "source": [
    "def print_colored(text,predictions):\n",
    "    otext = []\n",
    "    for i in range(len(text)):\n",
    "        if i in predictions:\n",
    "            otext.append(cstr(text[i], color='red'))\n",
    "        else:\n",
    "            otext.append(cstr(text[i]))\n",
    "    return html_print(''.join(otext))"
   ]
  },
  {
   "cell_type": "code",
   "execution_count": 7,
   "metadata": {},
   "outputs": [],
   "source": [
    "thresh = 0.7"
   ]
  },
  {
   "cell_type": "code",
   "execution_count": 8,
   "metadata": {},
   "outputs": [],
   "source": [
    "df = pd.read_csv('data/tsd_train.csv')"
   ]
  },
  {
   "cell_type": "code",
   "execution_count": 9,
   "metadata": {},
   "outputs": [],
   "source": [
    "ix = random.randrange(len(df))\n",
    "text = df.text[ix]\n",
    "gold = get_spans(df.spans[ix])\n",
    "x = get_x(text)\n",
    "out = model.predict(np.expand_dims(x,axis=0))"
   ]
  },
  {
   "cell_type": "code",
   "execution_count": 10,
   "metadata": {},
   "outputs": [],
   "source": [
    "predictions = [[x for x in range(1056) if pred[x] >= thresh] for pred in out][0]"
   ]
  },
  {
   "cell_type": "code",
   "execution_count": 11,
   "metadata": {},
   "outputs": [
    {
     "name": "stdout",
     "output_type": "stream",
     "text": [
      "Text :  It doesn't matter who wins. With a choice between a loudmouthed obnoxious buffoon or a lying cheating thief, Americans are screwed regardless.\n",
      "\n",
      "Ground truth labels :  [64, 65, 66, 67, 68, 69, 70, 71, 72]\n",
      "\n",
      "Predictions :  [64, 65, 66, 67, 68, 69, 70, 71, 72, 73, 74, 75, 76, 77, 78, 79, 80]\n",
      "\n",
      "F1 Score :  0.6923076923076923\n"
     ]
    }
   ],
   "source": [
    "print('Text : ',text)\n",
    "print('\\nGround truth labels : ',gold)\n",
    "print('\\nPredictions : ',predictions)\n",
    "print('\\nF1 Score : ',f1(predictions,gold))"
   ]
  },
  {
   "cell_type": "code",
   "execution_count": 12,
   "metadata": {},
   "outputs": [
    {
     "name": "stdout",
     "output_type": "stream",
     "text": [
      "Ground truth : \n"
     ]
    },
    {
     "data": {
      "text/html": [
       "<text style=color:black>I</text><text style=color:black>t</text><text style=color:black> </text><text style=color:black>d</text><text style=color:black>o</text><text style=color:black>e</text><text style=color:black>s</text><text style=color:black>n</text><text style=color:black>'</text><text style=color:black>t</text><text style=color:black> </text><text style=color:black>m</text><text style=color:black>a</text><text style=color:black>t</text><text style=color:black>t</text><text style=color:black>e</text><text style=color:black>r</text><text style=color:black> </text><text style=color:black>w</text><text style=color:black>h</text><text style=color:black>o</text><text style=color:black> </text><text style=color:black>w</text><text style=color:black>i</text><text style=color:black>n</text><text style=color:black>s</text><text style=color:black>.</text><text style=color:black> </text><text style=color:black>W</text><text style=color:black>i</text><text style=color:black>t</text><text style=color:black>h</text><text style=color:black> </text><text style=color:black>a</text><text style=color:black> </text><text style=color:black>c</text><text style=color:black>h</text><text style=color:black>o</text><text style=color:black>i</text><text style=color:black>c</text><text style=color:black>e</text><text style=color:black> </text><text style=color:black>b</text><text style=color:black>e</text><text style=color:black>t</text><text style=color:black>w</text><text style=color:black>e</text><text style=color:black>e</text><text style=color:black>n</text><text style=color:black> </text><text style=color:black>a</text><text style=color:black> </text><text style=color:black>l</text><text style=color:black>o</text><text style=color:black>u</text><text style=color:black>d</text><text style=color:black>m</text><text style=color:black>o</text><text style=color:black>u</text><text style=color:black>t</text><text style=color:black>h</text><text style=color:black>e</text><text style=color:black>d</text><text style=color:black> </text><text style=color:red>o</text><text style=color:red>b</text><text style=color:red>n</text><text style=color:red>o</text><text style=color:red>x</text><text style=color:red>i</text><text style=color:red>o</text><text style=color:red>u</text><text style=color:red>s</text><text style=color:black> </text><text style=color:black>b</text><text style=color:black>u</text><text style=color:black>f</text><text style=color:black>f</text><text style=color:black>o</text><text style=color:black>o</text><text style=color:black>n</text><text style=color:black> </text><text style=color:black>o</text><text style=color:black>r</text><text style=color:black> </text><text style=color:black>a</text><text style=color:black> </text><text style=color:black>l</text><text style=color:black>y</text><text style=color:black>i</text><text style=color:black>n</text><text style=color:black>g</text><text style=color:black> </text><text style=color:black>c</text><text style=color:black>h</text><text style=color:black>e</text><text style=color:black>a</text><text style=color:black>t</text><text style=color:black>i</text><text style=color:black>n</text><text style=color:black>g</text><text style=color:black> </text><text style=color:black>t</text><text style=color:black>h</text><text style=color:black>i</text><text style=color:black>e</text><text style=color:black>f</text><text style=color:black>,</text><text style=color:black> </text><text style=color:black>A</text><text style=color:black>m</text><text style=color:black>e</text><text style=color:black>r</text><text style=color:black>i</text><text style=color:black>c</text><text style=color:black>a</text><text style=color:black>n</text><text style=color:black>s</text><text style=color:black> </text><text style=color:black>a</text><text style=color:black>r</text><text style=color:black>e</text><text style=color:black> </text><text style=color:black>s</text><text style=color:black>c</text><text style=color:black>r</text><text style=color:black>e</text><text style=color:black>w</text><text style=color:black>e</text><text style=color:black>d</text><text style=color:black> </text><text style=color:black>r</text><text style=color:black>e</text><text style=color:black>g</text><text style=color:black>a</text><text style=color:black>r</text><text style=color:black>d</text><text style=color:black>l</text><text style=color:black>e</text><text style=color:black>s</text><text style=color:black>s</text><text style=color:black>.</text>"
      ],
      "text/plain": [
       "<IPython.core.display.HTML object>"
      ]
     },
     "execution_count": 12,
     "metadata": {},
     "output_type": "execute_result"
    }
   ],
   "source": [
    "print('Ground truth : ')\n",
    "print_colored(text,gold)"
   ]
  },
  {
   "cell_type": "code",
   "execution_count": 13,
   "metadata": {},
   "outputs": [
    {
     "name": "stdout",
     "output_type": "stream",
     "text": [
      "Prediction : \n"
     ]
    },
    {
     "data": {
      "text/html": [
       "<text style=color:black>I</text><text style=color:black>t</text><text style=color:black> </text><text style=color:black>d</text><text style=color:black>o</text><text style=color:black>e</text><text style=color:black>s</text><text style=color:black>n</text><text style=color:black>'</text><text style=color:black>t</text><text style=color:black> </text><text style=color:black>m</text><text style=color:black>a</text><text style=color:black>t</text><text style=color:black>t</text><text style=color:black>e</text><text style=color:black>r</text><text style=color:black> </text><text style=color:black>w</text><text style=color:black>h</text><text style=color:black>o</text><text style=color:black> </text><text style=color:black>w</text><text style=color:black>i</text><text style=color:black>n</text><text style=color:black>s</text><text style=color:black>.</text><text style=color:black> </text><text style=color:black>W</text><text style=color:black>i</text><text style=color:black>t</text><text style=color:black>h</text><text style=color:black> </text><text style=color:black>a</text><text style=color:black> </text><text style=color:black>c</text><text style=color:black>h</text><text style=color:black>o</text><text style=color:black>i</text><text style=color:black>c</text><text style=color:black>e</text><text style=color:black> </text><text style=color:black>b</text><text style=color:black>e</text><text style=color:black>t</text><text style=color:black>w</text><text style=color:black>e</text><text style=color:black>e</text><text style=color:black>n</text><text style=color:black> </text><text style=color:black>a</text><text style=color:black> </text><text style=color:black>l</text><text style=color:black>o</text><text style=color:black>u</text><text style=color:black>d</text><text style=color:black>m</text><text style=color:black>o</text><text style=color:black>u</text><text style=color:black>t</text><text style=color:black>h</text><text style=color:black>e</text><text style=color:black>d</text><text style=color:black> </text><text style=color:red>o</text><text style=color:red>b</text><text style=color:red>n</text><text style=color:red>o</text><text style=color:red>x</text><text style=color:red>i</text><text style=color:red>o</text><text style=color:red>u</text><text style=color:red>s</text><text style=color:red> </text><text style=color:red>b</text><text style=color:red>u</text><text style=color:red>f</text><text style=color:red>f</text><text style=color:red>o</text><text style=color:red>o</text><text style=color:red>n</text><text style=color:black> </text><text style=color:black>o</text><text style=color:black>r</text><text style=color:black> </text><text style=color:black>a</text><text style=color:black> </text><text style=color:black>l</text><text style=color:black>y</text><text style=color:black>i</text><text style=color:black>n</text><text style=color:black>g</text><text style=color:black> </text><text style=color:black>c</text><text style=color:black>h</text><text style=color:black>e</text><text style=color:black>a</text><text style=color:black>t</text><text style=color:black>i</text><text style=color:black>n</text><text style=color:black>g</text><text style=color:black> </text><text style=color:black>t</text><text style=color:black>h</text><text style=color:black>i</text><text style=color:black>e</text><text style=color:black>f</text><text style=color:black>,</text><text style=color:black> </text><text style=color:black>A</text><text style=color:black>m</text><text style=color:black>e</text><text style=color:black>r</text><text style=color:black>i</text><text style=color:black>c</text><text style=color:black>a</text><text style=color:black>n</text><text style=color:black>s</text><text style=color:black> </text><text style=color:black>a</text><text style=color:black>r</text><text style=color:black>e</text><text style=color:black> </text><text style=color:black>s</text><text style=color:black>c</text><text style=color:black>r</text><text style=color:black>e</text><text style=color:black>w</text><text style=color:black>e</text><text style=color:black>d</text><text style=color:black> </text><text style=color:black>r</text><text style=color:black>e</text><text style=color:black>g</text><text style=color:black>a</text><text style=color:black>r</text><text style=color:black>d</text><text style=color:black>l</text><text style=color:black>e</text><text style=color:black>s</text><text style=color:black>s</text><text style=color:black>.</text>"
      ],
      "text/plain": [
       "<IPython.core.display.HTML object>"
      ]
     },
     "execution_count": 13,
     "metadata": {},
     "output_type": "execute_result"
    }
   ],
   "source": [
    "print('Prediction : ')\n",
    "print_colored(text,predictions)"
   ]
  },
  {
   "cell_type": "code",
   "execution_count": null,
   "metadata": {},
   "outputs": [],
   "source": []
  }
 ],
 "metadata": {
  "kernelspec": {
   "display_name": "Python 3",
   "language": "python",
   "name": "python3"
  },
  "language_info": {
   "codemirror_mode": {
    "name": "ipython",
    "version": 3
   },
   "file_extension": ".py",
   "mimetype": "text/x-python",
   "name": "python",
   "nbconvert_exporter": "python",
   "pygments_lexer": "ipython3",
   "version": "3.8.5"
  }
 },
 "nbformat": 4,
 "nbformat_minor": 4
}
